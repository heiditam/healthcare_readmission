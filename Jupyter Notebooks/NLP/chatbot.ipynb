{
 "cells": [
  {
   "cell_type": "code",
   "execution_count": 1,
   "metadata": {},
   "outputs": [],
   "source": [
    "import gradio as gr\n",
    "import anthropic\n",
    "import os\n",
    "from dotenv import load_dotenv"
   ]
  },
  {
   "cell_type": "code",
   "execution_count": 2,
   "metadata": {},
   "outputs": [],
   "source": [
    "load_dotenv()\n",
    "api_key = os.getenv('ANTHROPIC_API_KEY')"
   ]
  },
  {
   "cell_type": "code",
   "execution_count": 3,
   "metadata": {},
   "outputs": [],
   "source": [
    "client = anthropic.Anthropic(api_key=api_key)"
   ]
  },
  {
   "cell_type": "code",
   "execution_count": 4,
   "metadata": {},
   "outputs": [],
   "source": [
    "# system_message = 'You are a medical AI assistant specializing in hospital readmission analysis. \\\n",
    "#     You help healthcare professionals assess readmission risk factors, analyze discharge plans, \\\n",
    "#     and suggest evidence-based interventions. Always remind users that responses are for \\\n",
    "#     informational purposes and should not replace clinical judgment.'\n",
    "\n",
    "# def stream_claude(prompt):\n",
    "#     result = client.messages.stream(\n",
    "#         model=\"claude-3-haiku-20240307\",\n",
    "#         max_tokens=1000,\n",
    "#         temperature=0.7,\n",
    "#         system=system_message,\n",
    "#         messages=[\n",
    "#             {\"role\": \"user\", \"content\": prompt},\n",
    "#         ],\n",
    "#     )\n"
   ]
  },
  {
   "cell_type": "code",
   "execution_count": 5,
   "metadata": {},
   "outputs": [
    {
     "name": "stderr",
     "output_type": "stream",
     "text": [
      "/Library/Frameworks/Python.framework/Versions/3.12/lib/python3.12/site-packages/gradio/chat_interface.py:345: UserWarning: The 'tuples' format for chatbot messages is deprecated and will be removed in a future version of Gradio. Please set type='messages' instead, which uses openai-style 'role' and 'content' keys.\n",
      "  self.chatbot = Chatbot(\n"
     ]
    },
    {
     "name": "stdout",
     "output_type": "stream",
     "text": [
      "* Running on local URL:  http://127.0.0.1:7860\n",
      "* Running on public URL: https://4a1c6e325bd75f2425.gradio.live\n",
      "\n",
      "This share link expires in 1 week. For free permanent hosting and GPU upgrades, run `gradio deploy` from the terminal in the working directory to deploy to Hugging Face Spaces (https://huggingface.co/spaces)\n"
     ]
    },
    {
     "data": {
      "text/html": [
       "<div><iframe src=\"https://4a1c6e325bd75f2425.gradio.live\" width=\"100%\" height=\"500\" allow=\"autoplay; camera; microphone; clipboard-read; clipboard-write;\" frameborder=\"0\" allowfullscreen></iframe></div>"
      ],
      "text/plain": [
       "<IPython.core.display.HTML object>"
      ]
     },
     "metadata": {},
     "output_type": "display_data"
    },
    {
     "data": {
      "text/plain": []
     },
     "execution_count": 5,
     "metadata": {},
     "output_type": "execute_result"
    }
   ],
   "source": [
    "def chatbot(message, history):\n",
    "    messages = []\n",
    "    system_prompt = 'You are a medical AI assistant specializing in hospital readmission analysis. \\\n",
    "        You help healthcare professionals assess readmission risk factors, analyze discharge plans, \\\n",
    "        and suggest evidence-based interventions. Always remind users that responses are for \\\n",
    "        informational purposes and should not replace clinical judgment. If a user wants help determining their risk\\\n",
    "        of being readmitted, inquire for their age, sex, and ethnicity, before providing them with an answer.'\n",
    "    for human_msg, ai_msg in history:\n",
    "        messages.append({\"role\": \"user\", \"content\": human_msg})\n",
    "        messages.append({\"role\": \"assistant\", \"content\": ai_msg})\n",
    "    \n",
    "    # Add current message\n",
    "    messages.append({\"role\": \"user\", \"content\": message})\n",
    "    \n",
    "    response = client.messages.create(\n",
    "        model=\"claude-3-5-sonnet-20241022\",\n",
    "        max_tokens=1000,\n",
    "        system=system_prompt,\n",
    "        messages=messages\n",
    "    )\n",
    "        \n",
    "    reply = response.content[0].text\n",
    "    \n",
    "    return reply\n",
    "\n",
    "demo = gr.ChatInterface(\n",
    "    fn=chatbot,\n",
    "    title=\"Claude Hospital Readmission Assistant\",\n",
    "    description=\"AI assistant for hospital readmission analysis and support\",\n",
    "    examples=[\n",
    "        \"Based on my age and condition, am I at high risk?\",\n",
    "        \"Should I schedule a follow-up appointment?\",\n",
    "        \"How can I lower my chances of being readmitted?\",\n",
    "        \"How does insurance affect readmission rates?\"\n",
    "    ]\n",
    ")\n",
    "\n",
    "demo.launch(share=True)"
   ]
  },
  {
   "cell_type": "code",
   "execution_count": null,
   "metadata": {},
   "outputs": [],
   "source": []
  }
 ],
 "metadata": {
  "kernelspec": {
   "display_name": "Python 3",
   "language": "python",
   "name": "python3"
  },
  "language_info": {
   "codemirror_mode": {
    "name": "ipython",
    "version": 3
   },
   "file_extension": ".py",
   "mimetype": "text/x-python",
   "name": "python",
   "nbconvert_exporter": "python",
   "pygments_lexer": "ipython3",
   "version": "3.12.2"
  }
 },
 "nbformat": 4,
 "nbformat_minor": 2
}
